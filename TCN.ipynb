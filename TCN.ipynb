{
 "cells": [
  {
   "cell_type": "code",
   "execution_count": 2,
   "id": "79ad1721-c65c-44a3-8fd2-42ba619cf9de",
   "metadata": {},
   "outputs": [],
   "source": [
    "import mne\n",
    "import numpy as np\n",
    "import pandas as pd\n",
    "import matplotlib.pyplot as plt\n",
    "from collections import Counter\n",
    "# Read EDF+ file\n",
    "def read_edf_file(file_path):\n",
    "    # Read the EDF+ file\n",
    "    raw = mne.io.read_raw_edf(file_path, preload=True)\n",
    "    \n",
    "    # Get annotations/markers\n",
    "    annotations = raw.annotations\n",
    "    print(annotations)\n",
    "    \n",
    "    # Convert annotations to DataFrame\n",
    "    markers_df = pd.DataFrame({\n",
    "        'Onset': annotations.onset,\n",
    "        'Duration': annotations.duration,\n",
    "        'Description': annotations.description\n",
    "    })\n",
    "    \n",
    "    # Get signal data\n",
    "    data = raw.get_data()    \n",
    "    return data, markers_df, raw.info['sfreq']\n",
    "\n",
    "# Write markers to file\n",
    "def write_markers(markers_df, output_file):\n",
    "    markers_df.to_csv(output_file, index=False)\n",
    "\n",
    "\n",
    "def create_intervals(df):\n",
    "    intervals = {'ds': [], 'is': [], 'swd': []}\n",
    "    \n",
    "    # Initialize variables to track start times\n",
    "    current_starts = {'ds': None, 'is': None, 'swd': None}\n",
    "    \n",
    "    # Iterate through the dataframe rows\n",
    "    for index, row in df.iterrows():\n",
    "        event_type = row['Description'][:-1]  # Remove the last character (1 or 2)\n",
    "        event_number = int(row['Description'][-1])  # Get the last character as number\n",
    "        \n",
    "        if event_type in ['ds', 'is', 'swd']:\n",
    "            if event_number == 1:  # Start of interval\n",
    "                current_starts[event_type] = row['Onset']\n",
    "            elif event_number == 2:  # End of interval\n",
    "                if current_starts[event_type] is not None:\n",
    "                    intervals[event_type].append((current_starts[event_type], row['Onset']))\n",
    "                    current_starts[event_type] = None\n",
    "    \n",
    "    return intervals\n",
    "\n",
    "\n",
    "# Function to merge overlapping intervals\n",
    "def merge_intervals(intervals):\n",
    "    merged = []\n",
    "    for interval in intervals:\n",
    "        if not merged:\n",
    "            merged.append(interval)\n",
    "        else:\n",
    "            prev = merged[-1]\n",
    "            if interval[0] <= prev[1]:\n",
    "                merged[-1] = (prev[0], max(prev[1], interval[1]))\n",
    "            else:\n",
    "                merged.append(interval)\n",
    "    return merged\n",
    "\n",
    "\n",
    "# Compute complement intervals for 'normal' class\n",
    "def compute_complement_intervals(intervals, total_duration):\n",
    "    complement = []\n",
    "    prev_end = 0\n",
    "    for start, end in intervals:\n",
    "        if start > prev_end:\n",
    "            complement.append((prev_end, start))\n",
    "        prev_end = end\n",
    "    if prev_end < total_duration:\n",
    "        complement.append((prev_end, total_duration))\n",
    "    return complement"
   ]
  },
  {
   "cell_type": "code",
   "execution_count": 3,
   "id": "a6664635-5d77-4d85-89fb-616fa6e1f01f",
   "metadata": {},
   "outputs": [
    {
     "data": {
      "text/plain": [
       "['Ati4x1_15m_BL_6h_edited.edf',\n",
       " 'Ati4x1_15m_BL_6h_fully_marked.edf',\n",
       " 'Ati4x1_15m_Dex003(Pharm!)_6h_fully_marked.edf',\n",
       " 'Ati4x1_15m_H2O_6h_edited.edf',\n",
       " 'Ati4x1_15m_H2O_6h_fully_marked.edf',\n",
       " 'Ati4x3B_15m_H2O_6h_edited.edf',\n",
       " 'Ati4x3_12m_BL_6h_edited.edf',\n",
       " 'Ati4x3_12m_BL_6h_fully_marked.edf',\n",
       " 'Ati4x3_9m_Xyl01(Pharm!)_6h_fully_marked.edf',\n",
       " 'Ati4x6_14m_BL_6h_edited.edf',\n",
       " 'Ati4x6_14m_BL_6h_fully_marked.edf',\n",
       " 'Ati4x6_14m_H2O_6h_edited.edf',\n",
       " 'Ati4x7_14m_BL_6h_edited.edf',\n",
       " 'Ati4y2_11m_BL_6h_edited.edf',\n",
       " 'Ati4y3_12m_BL_6h_edited.edf',\n",
       " 'Ati4y4_12m_BL_6h_edited.edf',\n",
       " 'Ati4y4_13m_BL_6h_edited.edf',\n",
       " 'Ati5x1_10m_BL_6h_edited.edf',\n",
       " 'Ati5x1_11m_BL_6h_edited.edf',\n",
       " 'Ati5x2_12m_BL_6h_edited.edf',\n",
       " 'Ati5x3_14m_BL_6h_edited.edf']"
      ]
     },
     "execution_count": 3,
     "metadata": {},
     "output_type": "execute_result"
    }
   ],
   "source": [
    "import os\n",
    "\n",
    "only_files = [f for f in os.listdir('full_data/') if \".edf\" in f.lower()]\n",
    "only_files"
   ]
  },
  {
   "cell_type": "code",
   "execution_count": 5,
   "id": "86a3a014-4ad0-4fef-86a5-e1ed5c50cb2d",
   "metadata": {},
   "outputs": [
    {
     "name": "stdout",
     "output_type": "stream",
     "text": [
      "Extracting EDF parameters from /media/kglin/NewData/Hack-ECG/full_data/Ati4x1_15m_BL_6h_edited.edf...\n",
      "EDF file detected\n",
      "Setting channel info structure...\n",
      "Creating raw.info structure...\n",
      "Reading 0 ... 8640399  =      0.000 ... 21600.998 secs...\n",
      "<Annotations | 12 segments: ds1 (3), ds2 (3), is1 (3), is2 (3)>\n",
      "{'ds': [(223.725, 261.9375), (1722.675, 1771.9875), (7459.225, 7516.7125)], 'is': [(1772.3, 1790.55), (7813.406493, 7828.546472), (9128.025, 9161.1125)], 'swd': []}\n",
      "No valid measurements found for class swd\n",
      "Extracting EDF parameters from /media/kglin/NewData/Hack-ECG/full_data/Ati4x1_15m_BL_6h_fully_marked.edf...\n",
      "EDF file detected\n",
      "Setting channel info structure...\n",
      "Creating raw.info structure...\n",
      "Reading 0 ... 8640399  =      0.000 ... 21600.998 secs...\n",
      "<Annotations | 138 segments: ds1 (57), ds2 (57), is1 (12), is2 (12)>\n",
      "{'ds': [(178.0, 262.0), (343.0, 496.0), (1475.0, 1501.0), (1511.0, 1772.0), (2003.0, 2246.0), (2255.0, 2288.0), (2317.0, 2356.0), (2437.0, 2519.0), (2581.0, 2636.0), (2674.0, 2718.0), (2773.0, 2798.0), (2834.0, 2874.0), (4021.0, 4075.0), (4098.0, 4196.0), (4209.0, 4380.0), (4531.0, 4728.0), (4849.0, 4896.0), (5617.0, 5746.0), (5779.0, 5909.0), (5929.0, 6089.0), (6582.0, 6714.0), (6749.0, 6869.0), (6885.0, 6970.0), (7015.0, 7087.0), (7232.0, 7403.0), (7410.0, 7570.0), (7602.0, 7692.0), (7754.0, 7811.0), (7931.0, 8210.0), (8271.0, 8444.0), (8648.0, 8825.0), (8843.0, 8890.0), (8907.0, 8936.0), (8961.0, 9072.0), (9106.0, 9131.0), (9307.0, 9369.0), (10911.0, 11248.0), (11268.0, 11393.0), (11409.0, 11650.0), (11706.0, 11762.0), (11901.0, 12022.0), (12075.0, 12199.0), (12581.0, 12980.0), (13026.0, 13479.0), (13645.0, 13760.0), (13780.0, 13953.0), (14042.0, 14090.0), (14183.0, 14345.0), (15724.0, 16497.0), (16544.0, 16672.0), (17354.0, 17804.0), (17849.0, 17940.0), (18059.0, 18131.0), (18288.0, 18602.0), (18631.0, 18688.0), (18913.0, 19317.0), (19509.0, 20039.0)], 'is': [(1774.0, 1791.0), (2522.0, 2532.0), (6089.0, 6099.0), (7812.0, 7829.0), (9085.0, 9095.0), (9135.0, 9162.0), (12023.0, 12032.0), (13960.0, 13969.0), (14480.0, 14488.0), (18603.0, 18611.0), (18690.0, 18698.0)], 'swd': []}\n",
      "No valid measurements found for class swd\n",
      "Extracting EDF parameters from /media/kglin/NewData/Hack-ECG/full_data/Ati4x1_15m_Dex003(Pharm!)_6h_fully_marked.edf...\n",
      "EDF file detected\n",
      "Setting channel info structure...\n",
      "Creating raw.info structure...\n",
      "Reading 0 ... 8640399  =      0.000 ... 21600.998 secs...\n",
      "<Annotations | 28 segments: ds1 (14), ds2 (14)>\n",
      "{'ds': [(12785.0, 13377.0), (13443.0, 14205.0), (14265.0, 14526.0), (16380.0, 16645.0), (16692.0, 17079.0), (17701.0, 17797.0), (17871.0, 18119.0), (18184.0, 18431.0), (18516.0, 19271.0), (19637.0, 19909.0), (19970.0, 20691.0), (20718.0, 20845.0), (20881.0, 21010.0), (21109.0, 21580.0)], 'is': [], 'swd': []}\n",
      "No valid measurements found for class is\n",
      "No valid measurements found for class swd\n",
      "Extracting EDF parameters from /media/kglin/NewData/Hack-ECG/full_data/Ati4x1_15m_H2O_6h_edited.edf...\n",
      "EDF file detected\n",
      "Setting channel info structure...\n",
      "Creating raw.info structure...\n",
      "Reading 0 ... 8640399  =      0.000 ... 21600.998 secs...\n",
      "<Annotations | 14 segments: ds1 (4), ds2 (4), is1 (3), is2 (3)>\n",
      "{'ds': [(428.5, 460.45), (14231.375, 14290.025), (20006.275, 20095.275), (20149.5, 20225.375)], 'is': [(6745.3, 6763.575), (7186.85, 7199.65), (20225.475, 20247.475)], 'swd': []}\n",
      "No valid measurements found for class swd\n",
      "Extracting EDF parameters from /media/kglin/NewData/Hack-ECG/full_data/Ati4x1_15m_H2O_6h_fully_marked.edf...\n",
      "EDF file detected\n",
      "Setting channel info structure...\n",
      "Creating raw.info structure...\n",
      "Reading 0 ... 8640399  =      0.000 ... 21600.998 secs...\n",
      "<Annotations | 70 segments: ds1 (29), ds2 (29), is1 (6), is2 (6)>\n",
      "{'ds': [(216.0, 285.0), (314.0, 500.0), (549.0, 649.0), (2454.0, 2516.0), (2560.0, 2601.0), (2616.0, 2767.0), (2834.0, 2907.0), (3038.0, 3151.0), (5739.0, 5944.0), (6164.0, 6746.0), (6809.0, 6838.0), (6887.0, 6918.0), (6974.0, 7187.0), (7225.0, 7238.0), (9090.0, 9135.0), (9174.0, 9204.0), (9314.0, 9348.0), (9406.0, 9543.0), (11849.0, 11921.0), (13395.0, 13468.0), (13718.0, 13857.0), (14109.0, 14588.0), (14819.0, 14963.0), (16346.0, 16602.0), (19583.0, 20225.0), (20268.0, 20496.0), (20568.0, 20768.0), (20941.0, 21214.0), (21456.0, 21554.0)], 'is': [(506.0, 517.0), (2772.0, 2784.0), (6749.0, 6763.0), (7189.0, 7200.0), (20227.0, 20239.0), (20499.0, 20510.0)], 'swd': []}\n",
      "No valid measurements found for class swd\n",
      "Extracting EDF parameters from /media/kglin/NewData/Hack-ECG/full_data/Ati4x3B_15m_H2O_6h_edited.edf...\n",
      "EDF file detected\n",
      "Setting channel info structure...\n",
      "Creating raw.info structure...\n",
      "Reading 0 ... 8640399  =      0.000 ... 21600.998 secs...\n",
      "<Annotations | 18 segments: ds1 (2), ds2 (2), swd1 (7), swd2 (7)>\n",
      "{'ds': [(12386.825511, 12433.343149), (19196.425, 19231.318098)], 'is': [], 'swd': [(126.075, 129.275), (1864.85, 1872.029), (2094.4, 2101.775), (2133.15, 2138.325), (2660.175, 2665.3), (2742.205, 2745.4), (2757.025, 2762.97)]}\n",
      "No valid measurements found for class is\n",
      "Extracting EDF parameters from /media/kglin/NewData/Hack-ECG/full_data/Ati4x3_12m_BL_6h_edited.edf...\n",
      "EDF file detected\n",
      "Setting channel info structure...\n",
      "Creating raw.info structure...\n",
      "Reading 0 ... 8640399  =      0.000 ... 21600.998 secs...\n",
      "<Annotations | 28 segments: ds1 (2), ds2 (2), is1 (3), is2 (3), swd1 (9), ...>\n",
      "{'ds': [(4224.325, 4374.1625), (5679.975, 5777.9875)], 'is': [(4142.8375, 4174.925), (9802.7, 9837.2875), (10130.8, 10143.975)], 'swd': [(927.125, 932.675), (1015.075, 1024.15), (1371.75, 1378.075), (1635.9, 1639.875), (2224.8, 2231.6), (2297.425, 2304.775), (2440.2, 2446.1), (2710.7, 2716.075), (2877.225, 2879.575)]}\n",
      "Extracting EDF parameters from /media/kglin/NewData/Hack-ECG/full_data/Ati4x3_12m_BL_6h_fully_marked.edf...\n",
      "EDF file detected\n",
      "Setting channel info structure...\n",
      "Creating raw.info structure...\n",
      "Reading 0 ... 8640399  =      0.000 ... 21600.998 secs...\n",
      "<Annotations | 182 segments: dds2 (1), ds1 (19), ds2 (18), is1 (11), is2 ...>\n",
      "{'ds': [(2508.0, 2614.0), (3787.0, 4131.0), (4224.0, 4374.0), (4454.0, 4836.0), (4990.0, 5026.0), (5183.0, 5413.0), (5569.0, 5778.0), (5885.0, 6273.0), (6323.0, 6450.0), (7255.0, 7540.0), (7725.0, 8136.0), (8402.0, 8525.0), (8647.0, 8747.0), (9172.0, 9271.0), (9891.0, 10131.0), (15202.0, 15721.0), (15850.0, 15905.0), (16144.0, 16266.0)], 'is': [(4137.0, 4174.0), (4838.0, 4852.0), (5027.0, 5047.0), (5420.0, 5437.0), (6279.0, 6312.0), (8140.0, 8153.0), (8530.0, 8551.0), (9813.0, 9838.0), (10664.0, 10683.0), (10822.0, 10834.0), (15732.0, 15742.0)], 'swd': [(927.0, 933.0), (1015.0, 1024.0), (1372.0, 1378.0), (1636.0, 1640.0), (2226.0, 2232.0), (2298.0, 2305.0), (2440.0, 2446.0), (2711.0, 2716.0), (2877.0, 2880.0), (3686.0, 3695.0), (3733.0, 3737.0), (3775.0, 3777.0), (4436.0, 4439.0), (7187.0, 7191.0), (7227.0, 7229.0), (7612.0, 7615.0), (7681.0, 7684.0), (12617.0, 12626.0), (12674.0, 12680.0), (12682.0, 12684.0), (12687.0, 12689.0), (12705.0, 12708.0), (12714.0, 12716.0), (12731.0, 12733.0), (12753.0, 12759.0), (12964.0, 12970.0), (12993.0, 12996.0), (13078.0, 13084.0), (13223.0, 13226.0), (13423.0, 13429.0), (14040.0, 14047.0), (14468.0, 14473.0), (14738.0, 14742.0), (14970.0, 14974.0), (15149.0, 15152.0), (16775.0, 16786.0), (16857.0, 16861.0), (16921.0, 16930.0), (16995.0, 16998.0), (17030.0, 17034.0), (17209.0, 17217.0), (17780.0, 17786.0), (17826.0, 17832.0), (17933.0, 17938.0), (18004.0, 18008.0), (18044.0, 18050.0), (18111.0, 18115.0), (18178.0, 18186.0), (18194.0, 18201.0), (18222.0, 18226.0), (18613.0, 18624.0), (19021.0, 19026.0), (19038.0, 19042.0), (19195.0, 19203.0), (19272.0, 19281.0), (19332.0, 19334.0), (20080.0, 20089.0), (20605.0, 20614.0), (20631.0, 20636.0), (20644.0, 20649.0), (20710.0, 20712.0)]}\n",
      "Extracting EDF parameters from /media/kglin/NewData/Hack-ECG/full_data/Ati4x3_9m_Xyl01(Pharm!)_6h_fully_marked.edf...\n",
      "EDF file detected\n",
      "Setting channel info structure...\n",
      "Creating raw.info structure...\n",
      "Reading 0 ... 8640399  =      0.000 ... 21600.998 secs...\n",
      "<Annotations | 424 segments: ds1 (10), ds2 (10), sdw1 (1), swd1 (202), ...>\n",
      "{'ds': [(311.48538, 2691.859649), (3952.0, 4643.397661), (4830.0, 9558.0), (10485.0, 11675.0), (12472.0, 12577.555555), (12796.982456, 12802.555555), (15967.807017, 16346.0), (16458.157895, 17415.0), (19170.760234, 19996.011696), (20821.0, 21162.988304)], 'is': [], 'swd': [(65.02924, 73.450292), (86.0, 96.51462), (101.964912, 105.438596), (110.0, 114.339181), (116.520468, 120.391813), (149.0, 154.964912), (158.602339, 164.076023), (174.0, 180.918129), (190.0, 193.45614), (240.280702, 248.0), (255.356725, 266.684211), (2772.660819, 2779.0), (2795.94152, 2801.415205), (2805.54386, 2808.491), (2870.0, 2878.251462), (2919.672515, 2926.0), (3421.0, 3428.555556), (3438.695906, 3440.508772), (3441.403509, 3443.204678), (9686.239766, 9691.80117), (10086.0, 10093.80117), (10124.918129, 10134.0), (10183.046784, 10187.0), (10195.0, 10200.0), (10204.0, 10214.25731), (10242.0, 10269.660819), (10296.0, 10300.0), (10330.625731, 10336.637427), (10474.918129, 10478.859649), (11804.380117, 11807.461988), (11811.74269, 11818.391813), (11904.883041, 11915.280702), (11993.0, 12002.812865), (12098.0, 12103.812865), (12240.619883, 12245.719298), (12402.0, 12407.035088), (12815.0, 12819.672515), (12824.68421, 12830.812865), (12870.081871, 12874.403509), (12881.093567, 12885.578947), (13005.0, 13013.450292), (13044.0, 13052.0), (13375.783626, 13378.0), (13424.0, 13427.0), (13495.0, 13503.0), (13505.251462, 13508.409357), (13517.02924, 13524.444444), (13656.292398, 13662.842105), (13671.836257, 13676.888889), (13712.0, 13718.532164), (13795.783626, 13797.0), (13801.315789, 13809.631579), (13899.45614, 13901.561403), (13926.0, 13935.725146), (13939.0, 13948.567251), (13952.0, 13954.883041), (13959.97076, 13966.847953), (13987.309941, 13990.0), (13993.058479, 13998.339181), (14004.871345, 14010.666667), (14012.0, 14016.976608), (14021.461988, 14027.005848), (14047.181286, 14051.134503), (14097.0, 14102.444444), (14106.672515, 14110.549708), (14114.777778, 14120.0), (14123.058479, 14127.368421), (14130.672515, 14137.760234), (14146.023392, 14151.654971), (14184.058479, 14196.081871), (14215.0, 14219.824561), (14232.760234, 14236.690058), (14252.0, 14260.976608), (14266.0, 14274.923977), (14287.152047, 14291.467836), (14310.0, 14319.795322), (14324.859649, 14330.631579), (14340.0, 14348.730994), (14361.0, 14370.964912), (14378.0, 14385.719298), (14389.0, 14391.0), (14741.883041, 14759.0), (14770.74269, 14775.438596), (15023.0, 15031.883041), (15034.0, 15040.0), (15050.0, 15057.0), (15063.426901, 15069.02924), (15076.0, 15082.350877), (15089.497076, 15101.350877), (15302.315789, 15305.54386), (15523.549708, 15528.345029), (15531.0, 15533.643275), (15548.865497, 15551.368421), (15574.0, 15576.847953), (15771.0, 15779.766082), (15787.0, 15796.824561), (15802.22807, 15806.748538), (15810.80117, 15814.918129), (16413.0, 16427.140351), (17527.742, 17531.005848), (17605.0, 17613.356725), (17621.0, 17625.68421), (17797.549708, 17800.929824), (17839.555555, 17845.0), (17857.631579, 17865.415205), (17866.807017, 17869.935672), (17895.0, 17899.339181), (17901.690058, 17910.678362), (17913.409357, 17919.654971), (17924.736842, 17929.461988), (17933.532164, 17937.0), (17946.444444, 17951.017544), (17974.280702, 17977.836257), (17984.666667, 17987.871345), (18010.409357, 18013.0), (18140.637427, 18146.859649), (18156.847953, 18165.730994), (18175.520468, 18181.894737), (18190.0, 18194.245614), (18203.0, 18208.690058), (18256.508772, 18258.68421), (18265.491228, 18269.947368), (18276.473684, 18281.959064), (18318.830409, 18321.929824), (18326.584795, 18330.807017), (18341.590643, 18345.204678), (18349.0, 18351.94152), (18353.818713, 18355.97076), (18359.0, 18362.140351), (18427.578947, 18432.25731), (18439.964912, 18445.0), (18453.643275, 18461.0), (18478.596, 18483.994152), (18496.953216, 18501.982456), (18526.0, 18531.0), (18535.0, 18539.900585), (18572.48538, 18578.350877), (18583.0, 18587.508772), (18594.0, 18598.877193), (18603.0, 18606.222222), (18612.0, 18615.678362), (18625.0, 18629.982456), (18634.847953, 18638.766082), (18701.690058, 18708.0), (18716.736842, 18719.953216), (18725.0, 18730.245614), (18739.0, 18744.596491), (18749.918129, 18752.900585), (18757.824561, 18761.321637), (18779.005848, 18781.54386), (18797.415205, 18799.0), (18801.216, 18803.614035), (18832.771, 18836.345029), (18890.71345, 18896.0), (18900.51462, 18904.421053), (18920.736842, 18922.584795), (19005.187134, 19010.0), (19024.421053, 19027.204678), (19033.0, 19039.116959), (19042.584795, 19047.801169), (19054.321637, 19058.146199), (19062.0, 19064.415205), (19077.239766, 19082.210526), (19093.315789, 19099.298246), (19149.304093, 19152.625731), (20070.0, 20075.0), (20086.0, 20092.204678), (20107.0, 20112.274854), (20115.48538, 20118.573099), (20139.315789, 20143.163743), (20144.304093, 20146.801169), (20165.0, 20169.0), (20174.0, 20178.497076), (20205.584795, 20212.140351), (20220.678362, 20225.064327), (20227.087719, 20229.309941), (20275.532164, 20280.263158), (20338.988304, 20343.0), (20349.812865, 20354.883041), (20360.0, 20366.0), (20370.38, 20373.456), (20378.48538, 20384.368421), (20402.94152, 20407.321637), (20410.795322, 20413.473684), (20431.216374, 20436.0), (20452.461988, 20457.520468), (20465.0, 20470.48538), (20486.0, 20493.567251), (20509.385965, 20512.929824), (20528.94152, 20535.0), (20725.0, 20733.777778), (20738.0, 20745.0), (20748.730994, 20752.0), (21377.467836, 21380.426), (21383.116959, 21390.847953), (21427.912281, 21430.964912), (21439.94152, 21446.988304), (21448.719298, 21454.309941), (21487.023392, 21491.707602), (21494.309941, 21497.976608)]}\n",
      "No valid measurements found for class is\n",
      "Extracting EDF parameters from /media/kglin/NewData/Hack-ECG/full_data/Ati4x6_14m_BL_6h_edited.edf...\n",
      "EDF file detected\n",
      "Setting channel info structure...\n",
      "Creating raw.info structure...\n",
      "Reading 0 ... 8640399  =      0.000 ... 21600.998 secs...\n",
      "<Annotations | 18 segments: ds1 (3), ds2 (3), swd1 (6), swd2 (6)>\n",
      "{'ds': [(2470.875, 2534.25), (3352.55, 3686.875), (5359.925, 5499.9)], 'is': [], 'swd': [(2209.3, 2214.775), (2299.075, 2302.46), (2310.575, 2315.207), (6297.384, 6307.837), (6959.6, 6970.9), (7142.125, 7146.85)]}\n",
      "No valid measurements found for class is\n",
      "Extracting EDF parameters from /media/kglin/NewData/Hack-ECG/full_data/Ati4x6_14m_BL_6h_fully_marked.edf...\n",
      "EDF file detected\n",
      "Setting channel info structure...\n",
      "Creating raw.info structure...\n",
      "Reading 0 ... 8640399  =      0.000 ... 21600.998 secs...\n",
      "<Annotations | 290 segments: ds1 (42), ds2 (40), is1 (10), is2 (10), swd1 ...>\n",
      "{'ds': [(2470.875, 2726.223329), (2762.04789, 2969.235), (3313.956542, 3695.220029), (4342.05257, 4491.295495), (4502.117925, 4760.669), (4787.225402, 4845.225), (5057.230075, 5334.949701), (5370.963785, 5499.9), (5899.105, 5985.974), (8133.596262, 8286.418252), (8368.988346, 8529.754701), (8552.544421, 8580.329467), (9154.440355, 9240.814), (9644.997692, 9748.021), (9872.016327, 9917.025), (10078.114458, 10222.023), (10229.799037, 10258.030346), (10303.974271, 10327.995), (10887.509019, 11124.635), (11140.018364, 11295.530047), (11371.018, 11406.044065), (12025.854813, 12120.20528), (14735.649205, 14822.56042), (14829.037, 15101.539392), (15247.539, 15452.022645), (15793.391804, 15829.564701), (15868.017972, 15989.022), (16042.840402, 16089.186), (16418.013299, 16681.04586), (17221.982776, 17276.305), (19435.585579, 19508.814), (19547.024, 19636.337), (19811.561589, 19907.432813), (19937.077, 20067.724), (20090.995, 20164.991), (20335.421, 20388.601), (20888.080009, 20981.028), (21030.29029, 21115.851), (21156.094028, 21206.332346), (21311.21, 21497.00057)], 'is': [(11305.020701, 11320.046402), (11441.002009, 11452.079112), (11495.037056, 11521.833785), (12138.99, 12154.681), (16101.069, 16119.77), (16683.139318, 16705.158), (19708.056991, 19716.687832), (20392.327, 20402.832346), (20652.409448, 20680.533), (21497.594028, 21508.551972)], 'swd': [(2209.486916, 2214.775), (2299.075, 2302.46), (2310.575, 2315.207), (4165.431, 4168.234), (4986.73014, 4989.533878), (6297.384, 6307.837), (6959.6, 6970.9), (7142.125, 7146.85), (7611.307944, 7619.784579), (7982.789, 7988.420093), (8029.144, 8044.536916), (8066.303, 8069.681), (8074.261, 8076.153738), (8089.765888, 8089.868691), (8812.035, 8822.339), (8846.796757, 8857.656), (8897.90657, 8901.65657), (8907.778, 8912.740682), (8951.149561, 8954.747692), (9024.950962, 9027.544), (9075.579467, 9077.542), (9596.427, 9598.740682), (10003.544364, 10009.058), (10488.410888, 10492.593), (11341.055, 11344.747), (11456.06, 11458.13986), (11741.95, 11744.649205), (11749.263691, 11751.21229), (11759.803411, 11761.485654), (11840.906215, 11844.142), (12540.030047, 12543.908), (12842.121028, 12859.018), (12874.686, 12890.709), (13285.973972, 13290.723972), (14210.026, 14220.078159), (14241.753393, 14244.720682), (14329.601, 14337.816477), (14451.026757, 14468.881897), (14471.830495, 14478.517411), (14512.59685, 14533.863), (14544.213, 14552.811804), (14562.480028, 14572.835), (14584.867, 14596.012738), (14621.811, 14625.152925), (14637.008065, 14642.961336), (14659.928626, 14663.288439), (14682.495215, 14685.900589), (14711.023252, 14718.282598), (14824.967177, 14827.700822), (15575.314701, 15580.090402), (15770.961897, 15773.207), (15843.85442, 15845.933), (16811.003804, 16818.601), (16824.812215, 16828.410346), (17156.057542, 17159.517), (18157.202402, 18163.16), (18471.071, 18476.083243), (18560.985112, 18571.788), (18789.679037, 18802.155673), (18815.496, 18834.048196), (18887.393991, 18904.636981), (18915.356607, 18930.244458), (18951.108944, 18965.379972), (18970.594925, 18977.445392), (18986.641654, 18992.529505), (18996.959411, 19007.833243), (19012.048196, 19017.471093), (19023.924, 19032.237449), (19103.910346, 19122.599598), (19125.534178, 19136.077402), (19149.643991, 19163.791187), (19170.957075, 19179.153336), (19187.622963, 19202.954738), (19206.696561, 19214.947729), (19283.622963, 19290.725), (19314.791187, 19318.884645), (19330.809878, 19344.674364), (19375.410346, 19379.207075), (19417.482776, 19420.132308), (19525.097, 19527.089701), (19724.304, 19728.37), (19914.421131, 19920.974), (20071.491, 20073.126), (20305.68515, 20309.049), (20323.58, 20326.231878), (20414.598701, 20418.935), (20441.673467, 20444.495897), (20499.734215, 20504.009), (20513.776271, 20518.220196), (20805.519262, 20808.743561), (20854.830009, 20857.341692), (21513.215, 21519.570663)]}\n",
      "Extracting EDF parameters from /media/kglin/NewData/Hack-ECG/full_data/Ati4x6_14m_H2O_6h_edited.edf...\n",
      "EDF file detected\n",
      "Setting channel info structure...\n",
      "Creating raw.info structure...\n",
      "Reading 0 ... 8640399  =      0.000 ... 21600.998 secs...\n",
      "<Annotations | 22 segments: ds1 (3), ds2 (3), swd1 (8), swd2 (8)>\n",
      "{'ds': [(13502.4, 13607.725), (14519.775, 14591.625), (18703.6, 18788.4)], 'is': [], 'swd': [(126.25, 142.175), (173.6, 178.625), (228.825, 244.375), (254.675, 267.875), (275.0, 282.45), (283.2, 312.4), (321.6, 344.8), (349.925, 363.55)]}\n",
      "No valid measurements found for class is\n",
      "Extracting EDF parameters from /media/kglin/NewData/Hack-ECG/full_data/Ati4x7_14m_BL_6h_edited.edf...\n",
      "EDF file detected\n",
      "Setting channel info structure...\n",
      "Creating raw.info structure...\n",
      "Reading 0 ... 8639999  =      0.000 ... 21599.998 secs...\n",
      "<Annotations | 16 segments: ds1 (4), ds2 (4), swd1 (4), swd2 (4)>\n",
      "{'ds': [(5201.825, 5262.275), (5294.725, 5316.425), (9514.125, 9566.275), (13846.1, 13928.775)], 'is': [], 'swd': [(419.375, 423.375), (426.75, 430.35), (441.4, 443.475), (583.125, 586.925)]}\n",
      "No valid measurements found for class is\n",
      "Extracting EDF parameters from /media/kglin/NewData/Hack-ECG/full_data/Ati4y2_11m_BL_6h_edited.edf...\n",
      "EDF file detected\n",
      "Setting channel info structure...\n",
      "Creating raw.info structure...\n",
      "Reading 0 ... 8640399  =      0.000 ... 21600.998 secs...\n",
      "<Annotations | 30 segments: ds1 (4), ds2 (4), swd1 (11), swd2 (11)>\n",
      "{'ds': [(11139.65, 11172.425), (12430.275, 12471.425), (12623.575, 12669.925), (17192.925, 17237.160174)], 'is': [], 'swd': [(1559.55, 1571.8), (1648.15, 1662.2), (1671.2, 1682.375), (1697.725, 1710.225), (1716.85, 1725.225), (1787.7, 1797.775), (1800.525, 1806.15), (1806.975, 1811.025), (1819.575, 1824.6), (1825.3, 1827.093), (1831.1, 1835.159)]}\n",
      "No valid measurements found for class is\n",
      "Extracting EDF parameters from /media/kglin/NewData/Hack-ECG/full_data/Ati4y3_12m_BL_6h_edited.edf...\n",
      "EDF file detected\n",
      "Setting channel info structure...\n",
      "Creating raw.info structure...\n",
      "Reading 0 ... 8640399  =      0.000 ... 21600.998 secs...\n",
      "<Annotations | 19 segments: ds1 (4), ds2 (4), swd1 (5), swd2 (6)>\n",
      "{'ds': [(12245.05, 12258.2), (12501.625, 12535.755215), (15328.55, 15393.72592), (15496.075, 15676.558435)], 'is': [], 'swd': [(1289.5, 1295.175), (1707.875, 1758.275), (1782.275, 1802.8), (1814.625, 1835.575), (1873.925, 1883.3)]}\n",
      "No valid measurements found for class is\n",
      "Extracting EDF parameters from /media/kglin/NewData/Hack-ECG/full_data/Ati4y4_12m_BL_6h_edited.edf...\n",
      "EDF file detected\n",
      "Setting channel info structure...\n",
      "Creating raw.info structure...\n",
      "Reading 0 ... 8640399  =      0.000 ... 21600.998 secs...\n",
      "<Annotations | 32 segments: ds1 (4), ds2 (4), swd1 (12), swd2 (12)>\n",
      "{'ds': [(3794.95, 3859.3), (3895.925, 3919.55), (4421.55, 4441.9), (18735.175, 18767.95)], 'is': [], 'swd': [(23.7, 35.8), (63.9, 71.825), (227.371, 245.775), (255.9, 273.65), (289.9, 317.025), (318.25, 327.05), (423.45, 433.725), (613.7, 620.675), (692.8, 699.6), (782.45, 795.675), (815.15, 821.6), (4505.3, 4510.525)]}\n",
      "No valid measurements found for class is\n",
      "Extracting EDF parameters from /media/kglin/NewData/Hack-ECG/full_data/Ati4y4_13m_BL_6h_edited.edf...\n",
      "EDF file detected\n",
      "Setting channel info structure...\n",
      "Creating raw.info structure...\n",
      "Reading 0 ... 8640399  =      0.000 ... 21600.998 secs...\n",
      "<Annotations | 32 segments: ds1 (7), ds2 (7), is1 (2), is2 (2), swd1 (7), ...>\n",
      "{'ds': [(448.725898, 467.075898), (1536.950898, 1552.500898), (2376.325898, 2392.975898), (3465.425898, 3482.950898), (3701.525898, 3730.450898), (20244.950898, 20268.875898), (21272.950898, 21368.200898)], 'is': [(5427.750898, 5438.275898), (12027.075898, 12042.300898)], 'swd': [(977.275, 981.5), (1058.35, 1063.9), (1404.475, 1408.208), (3273.825, 3279.15), (4684.95, 4694.95), (8680.85, 8688.075), (8738.95, 8758.45)]}\n",
      "Extracting EDF parameters from /media/kglin/NewData/Hack-ECG/full_data/Ati5x1_10m_BL_6h_edited.edf...\n",
      "EDF file detected\n",
      "Setting channel info structure...\n",
      "Creating raw.info structure...\n",
      "Reading 0 ... 8640399  =      0.000 ... 21600.998 secs...\n",
      "<Annotations | 36 segments: ds1 (5), ds2 (5), swd1 (13), swd2 (13)>\n",
      "{'ds': [(7210.5375, 7258.1), (10622.05, 10653.075), (11347.7125, 11381.6625), (16919.6125, 16968.7375), (17209.375, 17277.1125)], 'is': [], 'swd': [(2149.1, 2152.9), (2188.237, 2190.65), (2222.112, 2225.4), (2233.062, 2236.8), (2242.262, 2245.912), (2248.662, 2250.637), (2255.337, 2259.037), (3715.1, 3720.375), (3830.875, 3835.725), (3895.75, 3899.575), (6264.875, 6268.15), (6269.675, 6273.025), (6279.275, 6282.25)]}\n",
      "No valid measurements found for class is\n",
      "Extracting EDF parameters from /media/kglin/NewData/Hack-ECG/full_data/Ati5x1_11m_BL_6h_edited.edf...\n",
      "EDF file detected\n",
      "Setting channel info structure...\n",
      "Creating raw.info structure...\n",
      "Reading 0 ... 8640399  =      0.000 ... 21600.998 secs...\n",
      "<Annotations | 28 segments: ds1 (5), ds2 (3), swd1 (10), swd2 (10)>\n",
      "{'ds': [(7400.0, 7484.025), (14838.925, 14862.8), (16046.25, 16066.9)], 'is': [], 'swd': [(12.075, 14.55), (16.95, 20.3), (214.6, 217.45), (218.825, 220.925), (5552.775, 5556.55), (5714.8, 5717.325), (5732.2, 5735.925), (5737.4, 5739.4), (5907.125, 5911.5), (5923.975, 5927.275)]}\n",
      "No valid measurements found for class is\n",
      "Extracting EDF parameters from /media/kglin/NewData/Hack-ECG/full_data/Ati5x2_12m_BL_6h_edited.edf...\n",
      "EDF file detected\n",
      "Setting channel info structure...\n",
      "Creating raw.info structure...\n",
      "Reading 0 ... 8640399  =      0.000 ... 21600.998 secs...\n",
      "<Annotations | 28 segments: ds1 (5), ds2 (5), swd1 (9), swd2 (9)>\n",
      "{'ds': [(4542.55, 4654.275), (4802.5, 4866.025), (6046.575, 6127.075), (9657.95, 9730.2), (12419.575, 12474.45)], 'is': [], 'swd': [(2875.575, 2879.6), (2959.05, 2963.2), (4738.825, 4745.775), (5580.725, 5592.775), (5598.675, 5609.0), (5613.6, 5619.425), (5620.25, 5623.4), (5628.321, 5632.564), (5638.1, 5644.175)]}\n",
      "No valid measurements found for class is\n",
      "Extracting EDF parameters from /media/kglin/NewData/Hack-ECG/full_data/Ati5x3_14m_BL_6h_edited.edf...\n",
      "EDF file detected\n",
      "Setting channel info structure...\n",
      "Creating raw.info structure...\n",
      "Reading 0 ... 8640399  =      0.000 ... 21600.998 secs...\n",
      "<Annotations | 22 segments: ds1 (5), ds2 (5), swd1 (6), swd2 (6)>\n",
      "{'ds': [(1829.95, 1861.025), (6688.3, 6739.3), (14673.575, 14757.425), (16749.6, 16787.55), (17451.35, 17500.0)], 'is': [], 'swd': [(2359.85, 2363.15), (2425.85, 2428.8), (2430.3, 2434.175), (2436.725, 2438.95), (2440.525, 2449.1), (2878.125, 2883.625)]}\n",
      "No valid measurements found for class is\n"
     ]
    }
   ],
   "source": [
    "# Assuming 'data' is your numpy array of shape (3, 400 * seconds)\n",
    "# For the sake of example, let's define seconds and sampling rate\n",
    "seconds = 21600\n",
    "sampling_rate = 400  # Hz\n",
    "total_samples = seconds * sampling_rate\n",
    "channels = 3  # Number of channels in data\n",
    "window_duration = 2  # seconds\n",
    "window_size = int(window_duration * sampling_rate)  # Number of samples in a window\n",
    "full_measurements = []\n",
    "full_labels = []\n",
    "\n",
    "for file in only_files:\n",
    "    data, markers, fs = read_edf_file(os.path.join('full_data/',file))\n",
    "    intervals = create_intervals(markers)\n",
    "    print(intervals)\n",
    "\n",
    "    # Collect all intervals from 'ds', 'is', 'swd'\n",
    "    all_intervals = []\n",
    "    for class_name in ['ds', 'is', 'swd']:\n",
    "        all_intervals.extend(intervals[class_name])\n",
    "    \n",
    "    # Sort intervals by start time\n",
    "    all_intervals.sort(key=lambda x: x[0])\n",
    "    \n",
    "    \n",
    "    merged_intervals = merge_intervals(all_intervals)\n",
    "    \n",
    "    \n",
    "    total_time = seconds  # Total measurement duration\n",
    "    normal_intervals = compute_complement_intervals(merged_intervals, total_time)\n",
    "    intervals['normal'] = normal_intervals\n",
    "\n",
    "    measurements = {}\n",
    "    labels = []\n",
    "    labels_present = []\n",
    "    \n",
    "    for class_name in ['ds', 'is', 'swd', 'normal']:\n",
    "        indices_list = []\n",
    "        for start_time, end_time in intervals[class_name]:\n",
    "            min_idx = int(np.ceil(start_time * sampling_rate))\n",
    "            max_idx = int(np.floor(end_time * sampling_rate) - window_size + 1)\n",
    "            if max_idx >= min_idx:\n",
    "                indices = np.arange(min_idx, max_idx + 1)\n",
    "                indices_list.append(indices)\n",
    "        if indices_list:\n",
    "            all_indices = np.concatenate(indices_list)\n",
    "            # Sample 2000 indices\n",
    "            if len(all_indices) >= 2000:\n",
    "                sampled_indices = np.random.choice(all_indices, 2000, replace=False)\n",
    "            else:\n",
    "                sampled_indices = all_indices\n",
    "                print('OVERSAMPLED')\n",
    "                print(len(all_indices))\n",
    "                print('OVERSAMPLED')\n",
    "            # Extract measurements\n",
    "            class_measurements = np.array([\n",
    "                data[:, idx:idx + window_size] for idx in sampled_indices\n",
    "            ])\n",
    "            measurements[class_name] = class_measurements\n",
    "            labels.extend([class_name] * len(sampled_indices))\n",
    "            labels_present.append(class_name)\n",
    "        else:\n",
    "            print(f\"No valid measurements found for class {class_name}\")\n",
    "        # Combine datafrom all classes\n",
    "    all_measurements = np.concatenate([measurements[class_name] for class_name in labels_present], axis=0)\n",
    "    # Convert labels to numeric classes if needed\n",
    "    label_map = {'ds': 0, 'is': 1, 'swd': 2, 'normal': 3}\n",
    "    numeric_labels = np.array([label_map[label] for label in labels])\n",
    "\n",
    "    full_measurements.extend(all_measurements)\n",
    "    full_labels.extend(numeric_labels)"
   ]
  },
  {
   "cell_type": "code",
   "execution_count": 6,
   "id": "d9bb84e7-05d2-4600-b626-01eb7a3f12f0",
   "metadata": {},
   "outputs": [
    {
     "data": {
      "text/plain": [
       "132000"
      ]
     },
     "execution_count": 6,
     "metadata": {},
     "output_type": "execute_result"
    }
   ],
   "source": [
    "len(full_labels)"
   ]
  },
  {
   "cell_type": "code",
   "execution_count": 7,
   "id": "e667db0e-dc0a-4220-9498-6a91245bf697",
   "metadata": {},
   "outputs": [
    {
     "data": {
      "text/plain": [
       "638256"
      ]
     },
     "execution_count": 7,
     "metadata": {},
     "output_type": "execute_result"
    }
   ],
   "source": [
    "import torch\n",
    "from torch.utils.data import Dataset, DataLoader, random_split\n",
    "import torch.nn as nn\n",
    "import torch.nn.functional as F\n",
    "import pytorch_lightning as pl\n",
    "from torchmetrics import AUROC, Accuracy\n",
    "from pytorch_lightning.loggers import TensorBoardLogger\n",
    "\n",
    "# 1. Scaling the data\n",
    "class EEGDataset(Dataset):\n",
    "    def __init__(self, data, labels):\n",
    "        # data: numpy array of shape (N_samples, 3, 800)\n",
    "        self.data = torch.tensor(data, dtype=torch.float32)  # Shape: (N_samples, 3, 800)\n",
    "        self.labels = torch.tensor(labels, dtype=torch.long)\n",
    "\n",
    "        # Standardize the data\n",
    "        self.data = (self.data - self.data.mean()) / self.data.std()\n",
    "        \n",
    "    def __len__(self):\n",
    "        return len(self.labels)\n",
    "        \n",
    "    def __getitem__(self, idx):\n",
    "        return self.data[idx], self.labels[idx]\n",
    "\n",
    "# Example usage:\n",
    "dataset = EEGDataset(np.array(full_measurements), np.array(full_labels))\n",
    "len(dataset)"
   ]
  },
  {
   "cell_type": "code",
   "execution_count": 10,
   "id": "dc1b039b-9339-4426-a5f8-98a0182c6016",
   "metadata": {},
   "outputs": [],
   "source": [
    "import torch\n",
    "from torch.utils.data import Dataset, DataLoader, random_split\n",
    "import torch.nn as nn\n",
    "import torch.nn.functional as F\n",
    "import pytorch_lightning as pl\n",
    "from torchmetrics import AUROC, Accuracy, F1Score\n",
    "from pytorch_lightning.loggers import TensorBoardLogger\n",
    "\n",
    "class ResBlock(nn.Module):\n",
    "    def __init__(self, in_channels, out_channels, stride=1):\n",
    "        super().__init__()\n",
    "        self.conv1 = nn.Conv1d(in_channels, out_channels, kernel_size=3, \n",
    "                              stride=stride, padding=1, bias=False)\n",
    "        self.bn1 = nn.BatchNorm1d(out_channels)\n",
    "        self.conv2 = nn.Conv1d(out_channels, out_channels, kernel_size=3,\n",
    "                              stride=1, padding=1, bias=False)\n",
    "        self.bn2 = nn.BatchNorm1d(out_channels)\n",
    "        \n",
    "        # Shortcut connection\n",
    "        self.shortcut = nn.Sequential()\n",
    "        if stride != 1 or in_channels != out_channels:\n",
    "            self.shortcut = nn.Sequential(\n",
    "                nn.Conv1d(in_channels, out_channels, kernel_size=1,\n",
    "                         stride=stride, bias=False),\n",
    "                nn.BatchNorm1d(out_channels)\n",
    "            )\n",
    "\n",
    "    def forward(self, x):\n",
    "        out = F.relu(self.bn1(self.conv1(x)))\n",
    "        out = self.bn2(self.conv2(out))\n",
    "        out += self.shortcut(x)\n",
    "        out = F.relu(out)\n",
    "        return out\n",
    "\n",
    "class EEGClassifier(pl.LightningModule):\n",
    "    def __init__(self, num_classes=4, learning_rate=1e-3):\n",
    "        super().__init__()\n",
    "        \n",
    "        # Network Architecture\n",
    "        self.conv1 = nn.Conv1d(3, 64, kernel_size=7, stride=2, padding=3, bias=False)\n",
    "        self.bn1 = nn.BatchNorm1d(64)\n",
    "        self.pool = nn.MaxPool1d(kernel_size=3, stride=2, padding=1)\n",
    "        \n",
    "        # ResNet layers\n",
    "        self.layer1 = self._make_layer(64, 64, 3, stride=1)\n",
    "        self.layer2 = self._make_layer(64, 64, 3, stride=2)\n",
    "        self.layer3 = self._make_layer(64, 64, 3, stride=2)\n",
    "        self.layer4 = self._make_layer(64, 64, 3, stride=2)\n",
    "        self.layer5 = self._make_layer(64, 64, 3, stride=2)\n",
    "        \n",
    "        # Global average pooling and classifier\n",
    "        self.avgpool = nn.AdaptiveAvgPool1d(1)\n",
    "        self.fc = nn.Linear(64, num_classes)\n",
    "        \n",
    "        # Dropout for regularization\n",
    "        self.dropout = nn.Dropout(0.5)\n",
    "        \n",
    "        # Metrics\n",
    "        self.train_accuracy = Accuracy(task=\"multiclass\", num_classes=num_classes)\n",
    "        self.val_accuracy = Accuracy(task=\"multiclass\", num_classes=num_classes)\n",
    "        self.val_f1 = F1Score(task=\"multiclass\", num_classes=num_classes)\n",
    "\n",
    "        self.val_auroc = AUROC(task=\"multiclass\", num_classes=num_classes)\n",
    "        \n",
    "        self.learning_rate = learning_rate\n",
    "        self.num_classes = num_classes\n",
    "        \n",
    "        # Initialize list to store validation outputs\n",
    "        self.validation_step_outputs = []\n",
    "\n",
    "        self.class_weights = torch.tensor([\n",
    "            4.0,    # class 0\n",
    "            4.0,    # class 1\n",
    "            4.0,    # class 2\n",
    "            1.0,     # class 3 (normal) - lower weight since it's more frequent\n",
    "        ])\n",
    "\n",
    "    def _make_layer(self, in_channels, out_channels, num_blocks, stride):\n",
    "        layers = []\n",
    "        layers.append(ResBlock(in_channels, out_channels, stride))\n",
    "        for _ in range(1, num_blocks):\n",
    "            layers.append(ResBlock(out_channels, out_channels, 1))\n",
    "        return nn.Sequential(*layers)\n",
    "\n",
    "    def forward(self, x):\n",
    "        # Initial convolution and pooling\n",
    "        x = self.conv1(x)\n",
    "        x = self.bn1(x)\n",
    "        x = F.relu(x)\n",
    "        x = self.pool(x)\n",
    "        \n",
    "        # ResNet blocks\n",
    "        x = self.layer1(x)\n",
    "        x = self.layer2(x)\n",
    "        x = self.layer3(x)\n",
    "        x = self.layer4(x)\n",
    "        x = self.layer5(x)\n",
    "        \n",
    "        # Global average pooling and classification\n",
    "        x = self.avgpool(x)\n",
    "        x = x.view(x.size(0), -1)\n",
    "        x = self.dropout(x)\n",
    "        x = self.fc(x)\n",
    "        \n",
    "        return x\n",
    "\n",
    "    def configure_optimizers(self):\n",
    "        optimizer = torch.optim.Adam(self.parameters(), lr=self.learning_rate)\n",
    "        scheduler = torch.optim.lr_scheduler.ReduceLROnPlateau(\n",
    "            optimizer, mode='max', factor=0.5, patience=5, verbose=True\n",
    "        )\n",
    "        return {\n",
    "            \"optimizer\": optimizer,\n",
    "            \"lr_scheduler\": scheduler,\n",
    "            \"monitor\": \"val_accuracy\"\n",
    "        }\n",
    "\n",
    "    def training_step(self, batch, batch_idx):\n",
    "        x, y = batch\n",
    "        logits = self(x)\n",
    "        class_weights = self.class_weights.to(self.device)\n",
    "        \n",
    "        # Use weighted cross entropy loss\n",
    "        loss = F.cross_entropy(logits, y, weight=class_weights)        \n",
    "        # Calculate and log accuracy\n",
    "        preds = torch.argmax(logits, dim=1)\n",
    "        acc = self.train_accuracy(preds, y)\n",
    "        f1 = self.val_f1(preds,y)\n",
    "        \n",
    "        # Logging\n",
    "        self.log('train_loss', loss, prog_bar=True)\n",
    "        self.log('train_f1',f1,prog_bar = True)\n",
    "        self.log('train_accuracy', acc, prog_bar=True)\n",
    "        \n",
    "        return loss\n",
    "\n",
    "    def validation_step(self, batch, batch_idx):\n",
    "        x, y = batch\n",
    "        logits = self(x)\n",
    "        class_weights = self.class_weights.to(self.device)\n",
    "        \n",
    "        # Use weighted cross entropy loss\n",
    "        loss = F.cross_entropy(logits, y, weight=class_weights)        \n",
    "        # Calculate metrics\n",
    "        preds = torch.argmax(logits, dim=1)\n",
    "        acc = self.val_accuracy(preds, y)\n",
    "        f1 = self.val_f1(preds, y)\n",
    "\n",
    "        auroc = self.val_auroc(F.softmax(logits, dim=1), y)\n",
    "        \n",
    "        # Logging\n",
    "        self.log('val_loss', loss, prog_bar=True)\n",
    "        self.log('val_f1', f1, prog_bar=True)\n",
    "        self.log('val_accuracy', acc, prog_bar=True)\n",
    "        self.log('val_auroc', auroc, prog_bar=True)\n",
    "        \n",
    "        # Store output for epoch end processing\n",
    "        self.validation_step_outputs.append(loss)\n",
    "        \n",
    "        return loss\n",
    "\n",
    "    def on_validation_epoch_end(self):\n",
    "        # Compute epoch-level metrics\n",
    "        avg_loss = torch.stack(self.validation_step_outputs).mean()\n",
    "        \n",
    "        # Log epoch-level metrics\n",
    "        self.log('val_epoch_loss', avg_loss)\n",
    "        self.log('val_epoch_accuracy', self.val_accuracy.compute())\n",
    "        self.log('val_epoch_auroc', self.val_auroc.compute())\n",
    "        \n",
    "        # Clear the list for the next epoch\n",
    "        self.validation_step_outputs.clear()\n",
    "\n",
    "    def on_train_epoch_end(self):\n",
    "        # Log epoch-level training metrics\n",
    "        self.log('train_epoch_accuracy', self.train_accuracy.compute())\n",
    "\n",
    "    def get_all_predictions(self, dataloader):\n",
    "        self.eval()\n",
    "        all_preds = []\n",
    "        all_labels = []\n",
    "        \n",
    "        with torch.no_grad():\n",
    "            for batch in dataloader:\n",
    "                x, y = batch\n",
    "                logits = self(x)\n",
    "                preds = torch.argmax(logits, dim=1)\n",
    "                \n",
    "                all_preds.extend(preds.cpu().numpy())\n",
    "                all_labels.extend(y.cpu().numpy())\n",
    "        \n",
    "        return np.array(all_preds), np.array(all_labels)\n",
    "    "
   ]
  },
  {
   "cell_type": "code",
   "execution_count": 11,
   "id": "48e947c3-18ef-47ef-983a-cf5c16da3124",
   "metadata": {},
   "outputs": [
    {
     "name": "stderr",
     "output_type": "stream",
     "text": [
      "GPU available: True (cuda), used: True\n",
      "TPU available: False, using: 0 TPU cores\n",
      "IPU available: False, using: 0 IPUs\n",
      "HPU available: False, using: 0 HPUs\n",
      "LOCAL_RANK: 0 - CUDA_VISIBLE_DEVICES: [0]\n",
      "\n",
      "   | Name           | Type               | Params\n",
      "-------------------------------------------------------\n",
      "0  | conv1          | Conv1d             | 1.3 K \n",
      "1  | bn1            | BatchNorm1d        | 128   \n",
      "2  | pool           | MaxPool1d          | 0     \n",
      "3  | layer1         | Sequential         | 74.5 K\n",
      "4  | layer2         | Sequential         | 78.7 K\n",
      "5  | layer3         | Sequential         | 78.7 K\n",
      "6  | layer4         | Sequential         | 78.7 K\n",
      "7  | layer5         | Sequential         | 78.7 K\n",
      "8  | avgpool        | AdaptiveAvgPool1d  | 0     \n",
      "9  | fc             | Linear             | 260   \n",
      "10 | dropout        | Dropout            | 0     \n",
      "11 | train_accuracy | MulticlassAccuracy | 0     \n",
      "12 | val_accuracy   | MulticlassAccuracy | 0     \n",
      "13 | val_f1         | MulticlassF1Score  | 0     \n",
      "14 | val_auroc      | MulticlassAUROC    | 0     \n",
      "-------------------------------------------------------\n",
      "391 K     Trainable params\n",
      "0         Non-trainable params\n",
      "391 K     Total params\n",
      "1.564     Total estimated model params size (MB)\n"
     ]
    },
    {
     "data": {
      "application/vnd.jupyter.widget-view+json": {
       "model_id": "",
       "version_major": 2,
       "version_minor": 0
      },
      "text/plain": [
       "Sanity Checking: |                                        | 0/? [00:00<?, ?it/s]"
      ]
     },
     "metadata": {},
     "output_type": "display_data"
    },
    {
     "data": {
      "application/vnd.jupyter.widget-view+json": {
       "model_id": "a9aa371392394b68983a69e84ee26b54",
       "version_major": 2,
       "version_minor": 0
      },
      "text/plain": [
       "Training: |                                               | 0/? [00:00<?, ?it/s]"
      ]
     },
     "metadata": {},
     "output_type": "display_data"
    },
    {
     "data": {
      "application/vnd.jupyter.widget-view+json": {
       "model_id": "",
       "version_major": 2,
       "version_minor": 0
      },
      "text/plain": [
       "Validation: |                                             | 0/? [00:00<?, ?it/s]"
      ]
     },
     "metadata": {},
     "output_type": "display_data"
    },
    {
     "data": {
      "application/vnd.jupyter.widget-view+json": {
       "model_id": "",
       "version_major": 2,
       "version_minor": 0
      },
      "text/plain": [
       "Validation: |                                             | 0/? [00:00<?, ?it/s]"
      ]
     },
     "metadata": {},
     "output_type": "display_data"
    },
    {
     "data": {
      "application/vnd.jupyter.widget-view+json": {
       "model_id": "",
       "version_major": 2,
       "version_minor": 0
      },
      "text/plain": [
       "Validation: |                                             | 0/? [00:00<?, ?it/s]"
      ]
     },
     "metadata": {},
     "output_type": "display_data"
    },
    {
     "data": {
      "application/vnd.jupyter.widget-view+json": {
       "model_id": "",
       "version_major": 2,
       "version_minor": 0
      },
      "text/plain": [
       "Validation: |                                             | 0/? [00:00<?, ?it/s]"
      ]
     },
     "metadata": {},
     "output_type": "display_data"
    },
    {
     "data": {
      "application/vnd.jupyter.widget-view+json": {
       "model_id": "",
       "version_major": 2,
       "version_minor": 0
      },
      "text/plain": [
       "Validation: |                                             | 0/? [00:00<?, ?it/s]"
      ]
     },
     "metadata": {},
     "output_type": "display_data"
    },
    {
     "data": {
      "application/vnd.jupyter.widget-view+json": {
       "model_id": "",
       "version_major": 2,
       "version_minor": 0
      },
      "text/plain": [
       "Validation: |                                             | 0/? [00:00<?, ?it/s]"
      ]
     },
     "metadata": {},
     "output_type": "display_data"
    },
    {
     "data": {
      "application/vnd.jupyter.widget-view+json": {
       "model_id": "",
       "version_major": 2,
       "version_minor": 0
      },
      "text/plain": [
       "Validation: |                                             | 0/? [00:00<?, ?it/s]"
      ]
     },
     "metadata": {},
     "output_type": "display_data"
    },
    {
     "data": {
      "application/vnd.jupyter.widget-view+json": {
       "model_id": "",
       "version_major": 2,
       "version_minor": 0
      },
      "text/plain": [
       "Validation: |                                             | 0/? [00:00<?, ?it/s]"
      ]
     },
     "metadata": {},
     "output_type": "display_data"
    },
    {
     "data": {
      "application/vnd.jupyter.widget-view+json": {
       "model_id": "",
       "version_major": 2,
       "version_minor": 0
      },
      "text/plain": [
       "Validation: |                                             | 0/? [00:00<?, ?it/s]"
      ]
     },
     "metadata": {},
     "output_type": "display_data"
    },
    {
     "data": {
      "application/vnd.jupyter.widget-view+json": {
       "model_id": "",
       "version_major": 2,
       "version_minor": 0
      },
      "text/plain": [
       "Validation: |                                             | 0/? [00:00<?, ?it/s]"
      ]
     },
     "metadata": {},
     "output_type": "display_data"
    },
    {
     "data": {
      "application/vnd.jupyter.widget-view+json": {
       "model_id": "",
       "version_major": 2,
       "version_minor": 0
      },
      "text/plain": [
       "Validation: |                                             | 0/? [00:00<?, ?it/s]"
      ]
     },
     "metadata": {},
     "output_type": "display_data"
    },
    {
     "data": {
      "application/vnd.jupyter.widget-view+json": {
       "model_id": "",
       "version_major": 2,
       "version_minor": 0
      },
      "text/plain": [
       "Validation: |                                             | 0/? [00:00<?, ?it/s]"
      ]
     },
     "metadata": {},
     "output_type": "display_data"
    },
    {
     "data": {
      "application/vnd.jupyter.widget-view+json": {
       "model_id": "",
       "version_major": 2,
       "version_minor": 0
      },
      "text/plain": [
       "Validation: |                                             | 0/? [00:00<?, ?it/s]"
      ]
     },
     "metadata": {},
     "output_type": "display_data"
    },
    {
     "data": {
      "application/vnd.jupyter.widget-view+json": {
       "model_id": "",
       "version_major": 2,
       "version_minor": 0
      },
      "text/plain": [
       "Validation: |                                             | 0/? [00:00<?, ?it/s]"
      ]
     },
     "metadata": {},
     "output_type": "display_data"
    },
    {
     "data": {
      "application/vnd.jupyter.widget-view+json": {
       "model_id": "",
       "version_major": 2,
       "version_minor": 0
      },
      "text/plain": [
       "Validation: |                                             | 0/? [00:00<?, ?it/s]"
      ]
     },
     "metadata": {},
     "output_type": "display_data"
    },
    {
     "data": {
      "application/vnd.jupyter.widget-view+json": {
       "model_id": "",
       "version_major": 2,
       "version_minor": 0
      },
      "text/plain": [
       "Validation: |                                             | 0/? [00:00<?, ?it/s]"
      ]
     },
     "metadata": {},
     "output_type": "display_data"
    },
    {
     "data": {
      "application/vnd.jupyter.widget-view+json": {
       "model_id": "",
       "version_major": 2,
       "version_minor": 0
      },
      "text/plain": [
       "Validation: |                                             | 0/? [00:00<?, ?it/s]"
      ]
     },
     "metadata": {},
     "output_type": "display_data"
    },
    {
     "data": {
      "application/vnd.jupyter.widget-view+json": {
       "model_id": "",
       "version_major": 2,
       "version_minor": 0
      },
      "text/plain": [
       "Validation: |                                             | 0/? [00:00<?, ?it/s]"
      ]
     },
     "metadata": {},
     "output_type": "display_data"
    },
    {
     "data": {
      "application/vnd.jupyter.widget-view+json": {
       "model_id": "",
       "version_major": 2,
       "version_minor": 0
      },
      "text/plain": [
       "Validation: |                                             | 0/? [00:00<?, ?it/s]"
      ]
     },
     "metadata": {},
     "output_type": "display_data"
    },
    {
     "data": {
      "application/vnd.jupyter.widget-view+json": {
       "model_id": "",
       "version_major": 2,
       "version_minor": 0
      },
      "text/plain": [
       "Validation: |                                             | 0/? [00:00<?, ?it/s]"
      ]
     },
     "metadata": {},
     "output_type": "display_data"
    },
    {
     "data": {
      "application/vnd.jupyter.widget-view+json": {
       "model_id": "",
       "version_major": 2,
       "version_minor": 0
      },
      "text/plain": [
       "Validation: |                                             | 0/? [00:00<?, ?it/s]"
      ]
     },
     "metadata": {},
     "output_type": "display_data"
    },
    {
     "data": {
      "application/vnd.jupyter.widget-view+json": {
       "model_id": "",
       "version_major": 2,
       "version_minor": 0
      },
      "text/plain": [
       "Validation: |                                             | 0/? [00:00<?, ?it/s]"
      ]
     },
     "metadata": {},
     "output_type": "display_data"
    },
    {
     "data": {
      "application/vnd.jupyter.widget-view+json": {
       "model_id": "",
       "version_major": 2,
       "version_minor": 0
      },
      "text/plain": [
       "Validation: |                                             | 0/? [00:00<?, ?it/s]"
      ]
     },
     "metadata": {},
     "output_type": "display_data"
    },
    {
     "data": {
      "application/vnd.jupyter.widget-view+json": {
       "model_id": "",
       "version_major": 2,
       "version_minor": 0
      },
      "text/plain": [
       "Validation: |                                             | 0/? [00:00<?, ?it/s]"
      ]
     },
     "metadata": {},
     "output_type": "display_data"
    },
    {
     "data": {
      "application/vnd.jupyter.widget-view+json": {
       "model_id": "",
       "version_major": 2,
       "version_minor": 0
      },
      "text/plain": [
       "Validation: |                                             | 0/? [00:00<?, ?it/s]"
      ]
     },
     "metadata": {},
     "output_type": "display_data"
    },
    {
     "data": {
      "application/vnd.jupyter.widget-view+json": {
       "model_id": "",
       "version_major": 2,
       "version_minor": 0
      },
      "text/plain": [
       "Validation: |                                             | 0/? [00:00<?, ?it/s]"
      ]
     },
     "metadata": {},
     "output_type": "display_data"
    },
    {
     "data": {
      "application/vnd.jupyter.widget-view+json": {
       "model_id": "",
       "version_major": 2,
       "version_minor": 0
      },
      "text/plain": [
       "Validation: |                                             | 0/? [00:00<?, ?it/s]"
      ]
     },
     "metadata": {},
     "output_type": "display_data"
    },
    {
     "name": "stderr",
     "output_type": "stream",
     "text": [
      "/home/kglin/miniconda3/envs/chanpred/lib/python3.11/site-packages/pytorch_lightning/trainer/call.py:54: Detected KeyboardInterrupt, attempting graceful shutdown...\n"
     ]
    }
   ],
   "source": [
    "    batch_size=512\n",
    "    torch.set_float32_matmul_precision('medium')\n",
    "    max_epochs=30\n",
    "    # Split dataset\n",
    "    train_size = int(0.8 * len(dataset))\n",
    "    val_size = len(dataset) - train_size\n",
    "    train_dataset, val_dataset = random_split(dataset, [train_size, val_size])\n",
    "\n",
    "    # Create data loaders\n",
    "    train_loader = DataLoader(\n",
    "        train_dataset, \n",
    "        batch_size=batch_size, \n",
    "        shuffle=True, \n",
    "        num_workers=4\n",
    "    )\n",
    "    val_loader = DataLoader(\n",
    "        val_dataset, \n",
    "        batch_size=batch_size, \n",
    "        shuffle=False, \n",
    "        num_workers=4\n",
    "    )\n",
    "\n",
    "    # Initialize model and trainer\n",
    "    model = EEGClassifier()\n",
    "    logger = TensorBoardLogger(\"lightning_logs\", name=\"eeg_tcn\")\n",
    "    \n",
    "    trainer = pl.Trainer(\n",
    "        max_epochs=max_epochs,\n",
    "        logger=logger,\n",
    "        accelerator='gpu' if torch.cuda.is_available() else 'cpu',\n",
    "        devices=1,\n",
    "        callbacks=[\n",
    "            pl.callbacks.ModelCheckpoint(\n",
    "                monitor='val_accuracy',\n",
    "                mode='max',\n",
    "                save_top_k=3,\n",
    "                filename='{epoch}-{val_accuracy:.2f}'\n",
    "            ),\n",
    "            pl.callbacks.EarlyStopping(\n",
    "                monitor='val_accuracy',\n",
    "                patience=10,\n",
    "                mode='max'\n",
    "            )\n",
    "        ]\n",
    "    )\n",
    "\n",
    "    # Train the model\n",
    "    trainer.fit(model, train_loader, val_loader)\n",
    "\n"
   ]
  },
  {
   "cell_type": "code",
   "execution_count": 13,
   "id": "0087d371-4e3f-4f66-98e6-9befbde7e365",
   "metadata": {},
   "outputs": [],
   "source": [
    "model.cpu()\n",
    "a = model.get_all_predictions(val_loader)"
   ]
  },
  {
   "cell_type": "code",
   "execution_count": 14,
   "id": "249c3323-6af2-4ccf-b88b-0037e19917c3",
   "metadata": {},
   "outputs": [],
   "source": [
    "import numpy as np\n",
    "import matplotlib.pyplot as plt\n",
    "from sklearn.metrics import confusion_matrix, ConfusionMatrixDisplay\n",
    "cm = confusion_matrix(a[0], a[1])\n",
    "\n"
   ]
  },
  {
   "cell_type": "code",
   "execution_count": 15,
   "id": "690eae8a-427f-4b43-884b-c487b79dceb5",
   "metadata": {},
   "outputs": [
    {
     "data": {
      "text/plain": [
       "array([[41146,     1,     0,  5346],\n",
       "       [    9, 15680,     0,   160],\n",
       "       [    2,     3, 27828,   336],\n",
       "       [  932,     6,    33, 36170]])"
      ]
     },
     "execution_count": 15,
     "metadata": {},
     "output_type": "execute_result"
    }
   ],
   "source": [
    "cm"
   ]
  },
  {
   "cell_type": "code",
   "execution_count": 16,
   "id": "578809cf-7122-42be-8afd-a33a0dc0d168",
   "metadata": {},
   "outputs": [
    {
     "ename": "NameError",
     "evalue": "name 'reverse_label_map' is not defined",
     "output_type": "error",
     "traceback": [
      "\u001b[0;31m---------------------------------------------------------------------------\u001b[0m",
      "\u001b[0;31mNameError\u001b[0m                                 Traceback (most recent call last)",
      "Cell \u001b[0;32mIn[16], line 7\u001b[0m\n\u001b[1;32m      4\u001b[0m plt\u001b[38;5;241m.\u001b[39mcolorbar()\n\u001b[1;32m      6\u001b[0m \u001b[38;5;66;03m# Use the custom class names\u001b[39;00m\n\u001b[0;32m----> 7\u001b[0m class_names \u001b[38;5;241m=\u001b[39m \u001b[43m[\u001b[49m\u001b[43mreverse_label_map\u001b[49m\u001b[43m[\u001b[49m\u001b[43mi\u001b[49m\u001b[43m]\u001b[49m\u001b[43m \u001b[49m\u001b[38;5;28;43;01mfor\u001b[39;49;00m\u001b[43m \u001b[49m\u001b[43mi\u001b[49m\u001b[43m \u001b[49m\u001b[38;5;129;43;01min\u001b[39;49;00m\u001b[43m \u001b[49m\u001b[38;5;28;43mrange\u001b[39;49m\u001b[43m(\u001b[49m\u001b[38;5;28;43mlen\u001b[39;49m\u001b[43m(\u001b[49m\u001b[43mlabel_map\u001b[49m\u001b[43m)\u001b[49m\u001b[43m)\u001b[49m\u001b[43m]\u001b[49m\n\u001b[1;32m      8\u001b[0m tick_marks \u001b[38;5;241m=\u001b[39m np\u001b[38;5;241m.\u001b[39marange(\u001b[38;5;28mlen\u001b[39m(class_names))\n\u001b[1;32m      9\u001b[0m plt\u001b[38;5;241m.\u001b[39mxticks(tick_marks, class_names, rotation\u001b[38;5;241m=\u001b[39m\u001b[38;5;241m45\u001b[39m)\n",
      "Cell \u001b[0;32mIn[16], line 7\u001b[0m, in \u001b[0;36m<listcomp>\u001b[0;34m(.0)\u001b[0m\n\u001b[1;32m      4\u001b[0m plt\u001b[38;5;241m.\u001b[39mcolorbar()\n\u001b[1;32m      6\u001b[0m \u001b[38;5;66;03m# Use the custom class names\u001b[39;00m\n\u001b[0;32m----> 7\u001b[0m class_names \u001b[38;5;241m=\u001b[39m [\u001b[43mreverse_label_map\u001b[49m[i] \u001b[38;5;28;01mfor\u001b[39;00m i \u001b[38;5;129;01min\u001b[39;00m \u001b[38;5;28mrange\u001b[39m(\u001b[38;5;28mlen\u001b[39m(label_map))]\n\u001b[1;32m      8\u001b[0m tick_marks \u001b[38;5;241m=\u001b[39m np\u001b[38;5;241m.\u001b[39marange(\u001b[38;5;28mlen\u001b[39m(class_names))\n\u001b[1;32m      9\u001b[0m plt\u001b[38;5;241m.\u001b[39mxticks(tick_marks, class_names, rotation\u001b[38;5;241m=\u001b[39m\u001b[38;5;241m45\u001b[39m)\n",
      "\u001b[0;31mNameError\u001b[0m: name 'reverse_label_map' is not defined"
     ]
    },
    {
     "data": {
      "image/png": "[encoded data removed]",
      "text/plain": [
       "<Figure size 800x600 with 2 Axes>"
      ]
     },
     "metadata": {},
     "output_type": "display_data"
    }
   ],
   "source": [
    "plt.figure(figsize=(8, 6))\n",
    "plt.imshow(cm, interpolation='nearest', cmap=plt.cm.Blues)\n",
    "plt.title('Confusion Matrix')\n",
    "plt.colorbar()\n",
    "\n",
    "# Use the custom class names\n",
    "class_names = [reverse_label_map[i] for i in range(len(label_map))]\n",
    "tick_marks = np.arange(len(class_names))\n",
    "plt.xticks(tick_marks, class_names, rotation=45)\n",
    "plt.yticks(tick_marks, class_names)\n",
    "\n",
    "# Add text annotations\n",
    "fmt = 'd'\n",
    "thresh = cm.max() / 2.\n",
    "for i, j in np.ndindex(cm.shape):\n",
    "    plt.text(j, i, format(cm[i, j], fmt),\n",
    "             horizontalalignment=\"center\",\n",
    "             color=\"white\" if cm[i, j] > thresh else \"black\")\n",
    "\n",
    "plt.ylabel('True label')\n",
    "plt.xlabel('Predicted label')\n",
    "plt.tight_layout()\n",
    "plt.show()\n"
   ]
  },
  {
   "cell_type": "code",
   "execution_count": 17,
   "id": "2143dafa-a987-40fe-9688-6f9acab7f3da",
   "metadata": {},
   "outputs": [],
   "source": [
    "import torch\n",
    "import numpy as np\n",
    "\n",
    "def predict(model, numpy_array):\n",
    "    # Make sure the model is in evaluation mode\n",
    "    model.eval()\n",
    "    \n",
    "    # Convert numpy array to PyTorch tensor\n",
    "    # Assuming your input shape is (samples, channels, sequence_length)\n",
    "    # If not, you might need to reshape your numpy array first\n",
    "    tensor_data = torch.FloatTensor(numpy_array)\n",
    "    \n",
    "    # If you have a GPU and want to use it\n",
    "    if torch.cuda.is_available():\n",
    "        tensor_data = tensor_data.cuda()\n",
    "        model = model.cuda()\n",
    "    \n",
    "    # Make prediction\n",
    "    with torch.no_grad():  # Disable gradient calculation\n",
    "        logits = model(tensor_data)\n",
    "        probabilities = torch.softmax(logits, dim=1)\n",
    "        predictions = torch.argmax(logits, dim=1)\n",
    "    \n",
    "    # Convert back to numpy\n",
    "    predictions = predictions.cpu().numpy()\n",
    "    probabilities = probabilities.cpu().numpy()\n",
    "    \n",
    "    return predictions, probabilities\n",
    "\n",
    "# Example usage:\n",
    "# Assuming your numpy array has shape (batch_size, 3, sequence_length)\n",
    "# where 3 is the number of channels as defined in your model\n",
    "numpy_data = np.random.rand(10, 3, 800)  # Example data\n",
    "predictions, probabilities = predict(model, numpy_data)\n",
    "\n",
    "# predictions will contain the predicted class labels\n",
    "# probabilities will contain the probability distribution over all classes\n"
   ]
  },
  {
   "cell_type": "code",
   "execution_count": 27,
   "id": "6f04410b-edda-4489-82dd-ca683c108b9f",
   "metadata": {},
   "outputs": [
    {
     "name": "stdout",
     "output_type": "stream",
     "text": [
      "Extracting EDF parameters from /media/kglin/NewData/Hack-ECG/to-classify/TEST1_30min.edf...\n",
      "EDF file detected\n",
      "Setting channel info structure...\n",
      "Creating raw.info structure...\n",
      "Reading 0 ... 719999  =      0.000 ...  1799.997 secs...\n",
      "<Annotations | 0 segments>\n"
     ]
    }
   ],
   "source": [
    "inference_data, inference_markers, fs = read_edf_file('to-classify/TEST1_30min.edf')\n",
    "inference_data = inference_data[:,:]"
   ]
  },
  {
   "cell_type": "code",
   "execution_count": 35,
   "id": "0d969438-8862-40c7-8f7f-356caa152854",
   "metadata": {},
   "outputs": [
    {
     "data": {
      "text/plain": [
       "array([[-3.450000e-05,  2.506250e-05, -1.068750e-05, ...,  8.268750e-05,\n",
       "         4.637500e-05,  1.875000e-06],\n",
       "       [-2.040625e-04, -1.804375e-04, -1.986875e-04, ..., -4.000000e-05,\n",
       "        -9.318750e-05, -1.441250e-04],\n",
       "       [-4.237500e-05, -2.793750e-05, -2.993750e-05, ...,  9.212500e-05,\n",
       "         8.912500e-05,  1.125625e-04]])"
      ]
     },
     "execution_count": 35,
     "metadata": {},
     "output_type": "execute_result"
    }
   ],
   "source": [
    "inference_data"
   ]
  },
  {
   "cell_type": "code",
   "execution_count": 28,
   "id": "418ae1a6-bec9-4485-867f-573ca5027c62",
   "metadata": {},
   "outputs": [
    {
     "data": {
      "text/plain": [
       "array([[[-0.25842242,  0.13045934, -0.10295133, ..., -0.42083054,\n",
       "         -0.36900684, -0.11764151],\n",
       "        [-1.36549084, -1.21124393, -1.33039763, ...,  0.13209158,\n",
       "         -0.12661884,  0.02232328],\n",
       "        [-0.30983806, -0.21557606, -0.228634  , ..., -0.22781787,\n",
       "         -0.20537454, -0.15436697]],\n",
       "\n",
       "       [[ 0.08598073,  0.03578928,  0.06476158, ...,  0.09536613,\n",
       "          0.14106891,  0.52995067],\n",
       "        [ 0.13535606, -0.00297648,  0.21125534, ..., -0.95008515,\n",
       "         -0.82113799, -0.11192866],\n",
       "        [-0.12784303, -0.18537957,  0.17820243, ..., -0.07357097,\n",
       "          0.24716467,  0.37039897]],\n",
       "\n",
       "       [[ 0.74418249,  0.68215728,  0.90781479, ...,  0.21043922,\n",
       "          0.36509419, -0.06785812],\n",
       "        [ 0.04680691, -0.30983806, -0.36206981, ..., -0.33350557,\n",
       "         -0.46979781, -0.84684581],\n",
       "        [ 0.00640891, -0.05194375,  0.19493291, ...,  0.8580314 ,\n",
       "          0.95882237,  0.2406357 ]],\n",
       "\n",
       "       ...,\n",
       "\n",
       "       [[ 0.18636364,  0.2675677 ,  0.17616213, ...,  0.46180455,\n",
       "          0.51607661,  0.44956273],\n",
       "        [-0.18578763, -0.32412018, -0.62037218, ..., -1.04230684,\n",
       "         -0.91376775, -0.65546539],\n",
       "        [ 0.53403128,  0.70296837,  0.67889279, ..., -0.15028636,\n",
       "          0.17044928,  0.42099849]],\n",
       "\n",
       "       [[ 0.31367855,  0.4560917 ,  0.59687261, ..., -0.02174727,\n",
       "         -0.37349551, -0.68035709],\n",
       "        [-0.56324369, -0.44204969, -0.24985315, ..., -0.45306733,\n",
       "         -0.63016563, -0.3290169 ],\n",
       "        [ 0.471598  ,  0.60462576,  0.95678206, ...,  0.31123019,\n",
       "          0.11617722, -0.08499666]],\n",
       "\n",
       "       [[-0.79583824, -0.55549054, -0.14457351, ...,  0.50669122,\n",
       "          0.269608  , -0.02093115],\n",
       "        [-0.14416545, -0.27433678,  0.06884219, ..., -0.29433175,\n",
       "         -0.64159133, -0.97416072],\n",
       "        [-0.12906721, -0.05684048, -0.02256339, ...,  0.56830837,\n",
       "          0.54872146,  0.70174419]]])"
      ]
     },
     "execution_count": 28,
     "metadata": {},
     "output_type": "execute_result"
    }
   ],
   "source": [
    "inference_batch = ((inference_data - np.array(full_measurements).mean())/np.array(full_measurements).std()).reshape(3,-1,800).transpose(1,0,2)\n",
    "inference_batch"
   ]
  },
  {
   "cell_type": "code",
   "execution_count": 29,
   "id": "8d43b3f1-6ae4-4712-b7ca-1dfb4c001235",
   "metadata": {},
   "outputs": [
    {
     "name": "stdout",
     "output_type": "stream",
     "text": [
      "Predictions shape: (900,)\n",
      "Probabilities shape: (900, 4)\n"
     ]
    }
   ],
   "source": [
    "import torch\n",
    "import numpy as np\n",
    "from torch.utils.data import DataLoader, TensorDataset\n",
    "\n",
    "def predict_with_batching(model, numpy_array, batch_size=32):\n",
    "    \"\"\"\n",
    "    Make predictions on data with batching.\n",
    "    \n",
    "    Args:\n",
    "        model: PyTorch model\n",
    "        numpy_array: Input numpy array\n",
    "        batch_size: Size of batches to process at once\n",
    "    \n",
    "    Returns:\n",
    "        predictions: Numpy array of predicted classes\n",
    "        probabilities: Numpy array of class probabilities\n",
    "    \"\"\"\n",
    "    # Make sure the model is in evaluation mode\n",
    "    model.eval()\n",
    "    \n",
    "    # Convert numpy array to PyTorch tensor\n",
    "    tensor_data = torch.FloatTensor(numpy_array)\n",
    "    \n",
    "    # Create dataset and dataloader\n",
    "    dataset = TensorDataset(tensor_data)\n",
    "    dataloader = DataLoader(dataset, batch_size=batch_size, shuffle=False)\n",
    "    \n",
    "    # Move model to GPU if available\n",
    "    device = torch.device('cuda' if torch.cuda.is_available() else 'cpu')\n",
    "    model = model.to(device)\n",
    "    \n",
    "    # Lists to store predictions and probabilities\n",
    "    all_predictions = []\n",
    "    all_probabilities = []\n",
    "    \n",
    "    # Perform predictions in batches\n",
    "    with torch.no_grad():\n",
    "        for batch in dataloader:\n",
    "            # Move batch to device\n",
    "            batch = batch[0].to(device)\n",
    "            \n",
    "            # Make prediction\n",
    "            logits = model(batch)\n",
    "            probabilities = torch.softmax(logits, dim=1)\n",
    "            predictions = torch.argmax(logits, dim=1)\n",
    "            \n",
    "            # Store results\n",
    "            all_predictions.append(predictions.cpu().numpy())\n",
    "            all_probabilities.append(probabilities.cpu().numpy())\n",
    "    \n",
    "    # Concatenate all batches\n",
    "    predictions = np.concatenate(all_predictions)\n",
    "    probabilities = np.concatenate(all_probabilities)\n",
    "    \n",
    "    return predictions, probabilities\n",
    "\n",
    "\n",
    "    \n",
    "    # Define batch size\n",
    "inference_batch_size = 32\n",
    "\n",
    "predictions, probabilities = predict_with_batching(model, inference_batch, inference_batch_size)\n",
    "        \n",
    "print(f\"Predictions shape: {predictions.shape}\")\n",
    "print(f\"Probabilities shape: {probabilities.shape}\")\n",
    "        \n"
   ]
  },
  {
   "cell_type": "code",
   "execution_count": 30,
   "id": "a8fab51d-5a14-4e16-b3bc-89631e51eeab",
   "metadata": {},
   "outputs": [
    {
     "data": {
      "text/plain": [
       "Counter({3: 752, 0: 144, 1: 4})"
      ]
     },
     "execution_count": 30,
     "metadata": {},
     "output_type": "execute_result"
    }
   ],
   "source": [
    "Counter(predictions)"
   ]
  },
  {
   "cell_type": "code",
   "execution_count": 1,
   "id": "ce8be7f1-2b37-4b8d-8d21-d3b2f02539ec",
   "metadata": {},
   "outputs": [
    {
     "ename": "NameError",
     "evalue": "name 'np' is not defined",
     "output_type": "error",
     "traceback": [
      "\u001b[0;31m---------------------------------------------------------------------------\u001b[0m",
      "\u001b[0;31mNameError\u001b[0m                                 Traceback (most recent call last)",
      "Cell \u001b[0;32mIn[1], line 1\u001b[0m\n\u001b[0;32m----> 1\u001b[0m \u001b[43mnp\u001b[49m\u001b[38;5;241m.\u001b[39msave(\u001b[38;5;124m\"\u001b[39m\u001b[38;5;124mpreds_1\u001b[39m\u001b[38;5;124m\"\u001b[39m,predictions)\n",
      "\u001b[0;31mNameError\u001b[0m: name 'np' is not defined"
     ]
    }
   ],
   "source": [
    "\n",
    "np.save(\"preds_1\",predictions)"
   ]
  },
  {
   "cell_type": "code",
   "execution_count": 24,
   "id": "9a8fe785-5dfd-42d6-a098-46d6ed612a87",
   "metadata": {},
   "outputs": [
    {
     "data": {
      "text/html": [
       "<div>\n",
       "<style scoped>\n",
       "    .dataframe tbody tr th:only-of-type {\n",
       "        vertical-align: middle;\n",
       "    }\n",
       "\n",
       "    .dataframe tbody tr th {\n",
       "        vertical-align: top;\n",
       "    }\n",
       "\n",
       "    .dataframe thead th {\n",
       "        text-align: right;\n",
       "    }\n",
       "</style>\n",
       "<table border=\"1\" class=\"dataframe\">\n",
       "  <thead>\n",
       "    <tr style=\"text-align: right;\">\n",
       "      <th></th>\n",
       "      <th>Onset</th>\n",
       "      <th>Duration</th>\n",
       "      <th>Description</th>\n",
       "    </tr>\n",
       "  </thead>\n",
       "  <tbody>\n",
       "  </tbody>\n",
       "</table>\n",
       "</div>"
      ],
      "text/plain": [
       "Empty DataFrame\n",
       "Columns: [Onset, Duration, Description]\n",
       "Index: []"
      ]
     },
     "execution_count": 24,
     "metadata": {},
     "output_type": "execute_result"
    }
   ],
   "source": [
    "inference_markers"
   ]
  },
  {
   "cell_type": "code",
   "execution_count": 37,
   "id": "101ddc0e-5cf1-47e2-ae8d-42bc3e6c4e09",
   "metadata": {},
   "outputs": [
    {
     "data": {
      "text/plain": [
       "[<matplotlib.lines.Line2D at 0x7f59a7f66c90>]"
      ]
     },
     "execution_count": 37,
     "metadata": {},
     "output_type": "execute_result"
    },
    {
     "data": {
      "image/png": "[encoded data removed]",
      "text/plain": [
       "<Figure size 640x480 with 1 Axes>"
      ]
     },
     "metadata": {},
     "output_type": "display_data"
    }
   ],
   "source": [
    "plt.plot(probabilities[:,1])"
   ]
  },
  {
   "cell_type": "code",
   "execution_count": 7,
   "id": "683333df-627d-47f2-8e7a-e9efa98aa3d0",
   "metadata": {},
   "outputs": [
    {
     "ename": "NameError",
     "evalue": "name 'inference_data' is not defined",
     "output_type": "error",
     "traceback": [
      "\u001b[0;31m---------------------------------------------------------------------------\u001b[0m",
      "\u001b[0;31mNameError\u001b[0m                                 Traceback (most recent call last)",
      "Cell \u001b[0;32mIn[7], line 13\u001b[0m\n\u001b[1;32m     10\u001b[0m fn \u001b[38;5;241m=\u001b[39m \u001b[38;5;241m50\u001b[39m \u001b[38;5;66;03m#number of frequencies\u001b[39;00m\n\u001b[1;32m     12\u001b[0m \u001b[38;5;66;03m#... or calculate and plot CWT\u001b[39;00m\n\u001b[0;32m---> 13\u001b[0m fcwt\u001b[38;5;241m.\u001b[39mplot(\u001b[43minference_data\u001b[49m[\u001b[38;5;241m0\u001b[39m,:\u001b[38;5;241m2000\u001b[39m], fs, f0\u001b[38;5;241m=\u001b[39mf0, f1\u001b[38;5;241m=\u001b[39mf1, fn\u001b[38;5;241m=\u001b[39mfn)\n",
      "\u001b[0;31mNameError\u001b[0m: name 'inference_data' is not defined"
     ]
    }
   ],
   "source": [
    "import fcwt\n",
    "import numpy as np\n",
    "import matplotlib.pyplot as plt\n",
    "\n",
    "#Initialize\n",
    "fs = 400\n",
    "\n",
    "f0 = 1#lowest frequency\n",
    "f1 = 21 #highest frequency\n",
    "fn = 50 #number of frequencies\n",
    "\n",
    "#... or calculate and plot CWT\n",
    "fcwt.plot(inference_data[0,:2000], fs, f0=f0, f1=f1, fn=fn)"
   ]
  }
 ],
 "metadata": {
  "kernelspec": {
   "display_name": "Python 3 (ipykernel)",
   "language": "python",
   "name": "python3"
  },
  "language_info": {
   "codemirror_mode": {
    "name": "ipython",
    "version": 3
   },
   "file_extension": ".py",
   "mimetype": "text/x-python",
   "name": "python",
   "nbconvert_exporter": "python",
   "pygments_lexer": "ipython3",
   "version": "3.11.4"
  }
 },
 "nbformat": 4,
 "nbformat_minor": 5
}
